{
 "cells": [
  {
   "cell_type": "code",
   "execution_count": null,
   "id": "94ca407f-726c-43c4-86eb-b718f4a8ca0a",
   "metadata": {
    "tags": []
   },
   "outputs": [],
   "source": [
    "import pandas as pd\n",
    "import mysql.connector\n",
    "from sqlalchemy import create_engine\n"
   ]
  },
  {
   "cell_type": "code",
   "execution_count": null,
   "id": "1972b30c-b567-42c1-9217-c449209861f2",
   "metadata": {
    "tags": []
   },
   "outputs": [],
   "source": [
    "df_url = \"https://raw.githubusercontent.com/rfordatascience/tidytuesday/master/data/2019/2019-10-08/ipf_lifts.csv\"\n",
    "df = pd.read_csv(df_url)"
   ]
  },
  {
   "cell_type": "code",
   "execution_count": null,
   "id": "6f0b9dda-577f-487d-a9bb-a005c161d29e",
   "metadata": {
    "tags": []
   },
   "outputs": [],
   "source": [
    "df.info()"
   ]
  },
  {
   "cell_type": "code",
   "execution_count": null,
   "id": "e63fa1cb-e59f-4d5c-9e47-aed984cd68ad",
   "metadata": {
    "tags": []
   },
   "outputs": [],
   "source": [
    "df.shape"
   ]
  },
  {
   "cell_type": "code",
   "execution_count": null,
   "id": "0bd2c0f0-0b5c-47d0-9be0-472587505a96",
   "metadata": {
    "tags": []
   },
   "outputs": [],
   "source": [
    "df.columns"
   ]
  },
  {
   "cell_type": "code",
   "execution_count": null,
   "id": "df989d91-c56c-4f15-827b-2a603a28f9da",
   "metadata": {
    "tags": []
   },
   "outputs": [],
   "source": [
    "df.describe()"
   ]
  },
  {
   "cell_type": "code",
   "execution_count": null,
   "id": "6e4169ab-7efa-49df-af02-e9c0fefe3ecb",
   "metadata": {
    "tags": []
   },
   "outputs": [],
   "source": [
    "df.value_counts()"
   ]
  },
  {
   "cell_type": "code",
   "execution_count": null,
   "id": "f5f9cc2d-69f0-42d4-a150-f151a7d47290",
   "metadata": {
    "tags": []
   },
   "outputs": [],
   "source": [
    "df.index"
   ]
  },
  {
   "cell_type": "code",
   "execution_count": null,
   "id": "9433f4ef-a83c-4d7c-a5b6-2a11626426b1",
   "metadata": {
    "tags": []
   },
   "outputs": [],
   "source": [
    "df.fillna(0).isna().sum()"
   ]
  },
  {
   "cell_type": "code",
   "execution_count": null,
   "id": "c58b995c-3308-4a11-b8eb-6d356c05eb33",
   "metadata": {
    "tags": []
   },
   "outputs": [],
   "source": [
    "df.head()"
   ]
  },
  {
   "cell_type": "code",
   "execution_count": null,
   "id": "48091c48-dd5b-402d-a618-86ed9cf58906",
   "metadata": {
    "tags": []
   },
   "outputs": [],
   "source": [
    "df.tail()"
   ]
  },
  {
   "cell_type": "code",
   "execution_count": null,
   "id": "99f0e3cb-b7f1-4d9f-b525-aaf36ae9465d",
   "metadata": {
    "tags": []
   },
   "outputs": [],
   "source": [
    "duplicates = df[df.duplicated(['name'], keep=False)]\n",
    "uniq = df['name'].nunique()\n",
    "print(duplicates)\n",
    "print(uniq)"
   ]
  },
  {
   "cell_type": "markdown",
   "id": "bf4fe896-922c-454b-9601-bd34f0c79f58",
   "metadata": {},
   "source": [
    "Мы видим данные о спортсменах с соревнованиях.\n",
    "Дополнительные столбцы показывают информацию о соревновании, оборудовании, месте тренировки и весе и т. д."
   ]
  },
  {
   "cell_type": "markdown",
   "id": "04dd35cb-528c-48a1-bb81-936870ba4a05",
   "metadata": {},
   "source": [
    "2. Найдите рекорды каждого пола и каждого подразделения в каждом из 3\n",
    "упражнений (жим лежа, приседания и становая тяга)."
   ]
  },
  {
   "cell_type": "markdown",
   "id": "ff8814c4-848e-487d-ad0c-1b9c3dbeba43",
   "metadata": {},
   "source": [
    "Тк в колонках, максимальное значение которых мне нужно вычислить есть значения NaN - функция max будет возвращать NaN. \n",
    "Необходимо строки с этими значениями игнорировать с помощью - .max(skipna=True)"
   ]
  },
  {
   "cell_type": "code",
   "execution_count": null,
   "id": "25f30043-acf3-49e2-9018-c0b369faf9d0",
   "metadata": {
    "tags": []
   },
   "outputs": [],
   "source": [
    "var_m = df[df['sex'] == 'M']\n",
    "best3squat_kg_m = var_m['best3squat_kg'].max(skipna=True)\n",
    "print(best3squat_kg_m)\n",
    "\n",
    "best3bench_kg_m = var_m['best3bench_kg'].max(skipna=True)\n",
    "print(best3bench_kg_m)\n",
    "\n",
    "best3deadlift_kg_m = var_m['best3deadlift_kg'].max(skipna=True)\n",
    "print(best3deadlift_kg_m)\n"
   ]
  },
  {
   "cell_type": "code",
   "execution_count": null,
   "id": "791cff81-1f7b-4bde-97fb-3821d96859f3",
   "metadata": {
    "tags": []
   },
   "outputs": [],
   "source": [
    "var_f = df[df['sex'] == 'F']\n",
    "best3squat_kg_f = var_f['best3squat_kg'].max(skipna=True)\n",
    "print(best3squat_kg_f)\n",
    "\n",
    "best3bench_kg_f = var_f['best3bench_kg'].max(skipna=True)\n",
    "print(best3bench_kg_f)\n",
    "\n",
    "best3deadlift_kg_f = var_f['best3deadlift_kg'].max(skipna=True)\n",
    "print(best3deadlift_kg_f)\n"
   ]
  },
  {
   "cell_type": "markdown",
   "id": "8bc68918-b6ed-42d1-a708-b4a6253a6b6e",
   "metadata": {},
   "source": [
    "3. Посчитайте количество побед каждого участника, принимая за победу 1-е\n",
    "место. Сохраните результаты во вторичном DataFrame."
   ]
  },
  {
   "cell_type": "code",
   "execution_count": null,
   "id": "541f61f9-ea3d-4115-bee6-038c950891c4",
   "metadata": {
    "tags": []
   },
   "outputs": [],
   "source": [
    "winners = df[df['place'] == '1'].groupby('name')['place'].count().reset_index(name='wins')\n",
    "df_winners = df.merge(winners, on='name', how='left').fillna({'wins': 0})\n",
    "df_winners.head(100)\n",
    "df_winners.to_csv('df_winners.csv', index=False)"
   ]
  },
  {
   "cell_type": "code",
   "execution_count": null,
   "id": "92296aed-301d-4195-8fdb-2f78905291f5",
   "metadata": {
    "tags": []
   },
   "outputs": [],
   "source": [
    "winners = df[df['place'] == '1'].groupby('name')['place'].count().reset_index(name='count_wins')\n",
    "df_winners = df.merge(winners, on='name', how='left')\n",
    "df_winners.to_csv('df_winners.csv', index=False)\n",
    "print(df_winners)"
   ]
  },
  {
   "cell_type": "markdown",
   "id": "666abb82-97a0-4d0f-9326-0d208b1c445d",
   "metadata": {},
   "source": [
    "4. Используйте DataFrame из упражнения 3, чтобы показать для каждой\n",
    "комбинации подразделения и пола, участника с наибольшим количеством побед\n",
    "среди участников, когда-либо участвовавших в этом дивизионе."
   ]
  },
  {
   "cell_type": "code",
   "execution_count": null,
   "id": "34de9f00-0147-430a-b80d-129457548ed7",
   "metadata": {
    "tags": []
   },
   "outputs": [],
   "source": [
    "max_wins_F = df_winners[df_winners['sex'] == 'F'].groupby('division').apply(lambda x: x.loc[x['count_wins'].idxmax()])\n",
    "print(df_max_wins_F)"
   ]
  },
  {
   "cell_type": "code",
   "execution_count": null,
   "id": "479ebb26-0efc-4434-9e64-b4ce0cf57334",
   "metadata": {
    "tags": []
   },
   "outputs": [],
   "source": [
    "max_wins_M = df_winners[df_winners['sex'] == 'M'].groupby('division').apply(lambda x: x.loc[x['count_wins'].idxmax()])\n",
    "print(max_wins_M)"
   ]
  },
  {
   "cell_type": "code",
   "execution_count": null,
   "id": "96f84584-90e7-4b2c-ad6e-09fe2f30374a",
   "metadata": {
    "tags": []
   },
   "outputs": [],
   "source": [
    "max_wins = df_winners.groupby(['division', 'sex']).apply(lambda x: x.loc[x['count_wins'].idxmax()])\n",
    "print(max_wins)"
   ]
  },
  {
   "attachments": {},
   "cell_type": "markdown",
   "id": "d6d823af-afa9-456c-892d-25a50377dc14",
   "metadata": {},
   "source": [
    "5. Подключитесь к базе данных employees и выполните с помощью pandas\n",
    "последний запрос из финального проекта по SQL. Убедитесь, что результаты\n",
    "загружены в pandas DataFrame.\n",
    "\n",
    "\n",
    "/* 6. Написать запрос, который выводит строки с дубляжами. */\n",
    "\n",
    "/* \n",
    "because student_no UNIQUE value, I used another columns for identifing duplicates\n",
    "--\n",
    "Adam Lee\tadam.lee@mail.com\t2000-01-01\t2\n",
    "Brandon Chen\tbrandon.chen@mail.com\t2000-02-02\t2\n",
    "Cathy Wang\tcathy.wang@mail.com\t2001-03-03\t2\n",
    "*/\n",
    "\n",
    "SELECT student_name, email, birth_date, COUNT(*)\n",
    "FROM students\n",
    "GROUP BY student_name, email, birth_date\n",
    "HAVING COUNT(*) > 1\n",
    ";\n"
   ]
  },
  {
   "cell_type": "code",
   "execution_count": null,
   "id": "93868ac6-83d4-4cda-8f53-5e0e56fdcc09",
   "metadata": {
    "tags": []
   },
   "outputs": [],
   "source": [
    "user = '****'\n",
    "password = '*********'\n",
    "host = 'localhost'\n",
    "port = '3306'\n",
    "database = 'courses'\n",
    "\n",
    "engine = create_engine(f'mysql+pymysql://{user}:{password}@{host}:{port}/{database}')\n",
    "\n"
   ]
  },
  {
   "cell_type": "code",
   "execution_count": null,
   "id": "0e5a25ee-f7dd-4f07-8e51-8ff51513315a",
   "metadata": {
    "tags": []
   },
   "outputs": [],
   "source": [
    "my_sql_query = '''\n",
    "SELECT student_name, email, birth_date, COUNT(*)\n",
    "FROM students\n",
    "GROUP BY student_name, email, birth_date\n",
    "HAVING COUNT(*) > 1\n",
    "'''"
   ]
  },
  {
   "cell_type": "code",
   "execution_count": null,
   "id": "2418f9bf-c95a-45e8-aef5-31c9da2994a4",
   "metadata": {
    "tags": []
   },
   "outputs": [],
   "source": [
    "df_courses = pd.read_sql_query(my_sql_query, con=engine)\n",
    "print(df_courses)"
   ]
  },
  {
   "cell_type": "markdown",
   "id": "3eac5154",
   "metadata": {},
   "source": [
    "   student_name                  email  birth_date  COUNT(*)\n",
    "0      Adam Lee      adam.lee@mail.com  2000-01-01         2\n",
    "1  Brandon Chen  brandon.chen@mail.com  2000-02-02         2\n",
    "2    Cathy Wang    cathy.wang@mail.com  2001-03-03         2"
   ]
  }
 ],
 "metadata": {
  "kernelspec": {
   "display_name": "Python 3 (ipykernel)",
   "language": "python",
   "name": "python3"
  },
  "language_info": {
   "codemirror_mode": {
    "name": "ipython",
    "version": 3
   },
   "file_extension": ".py",
   "mimetype": "text/x-python",
   "name": "python",
   "nbconvert_exporter": "python",
   "pygments_lexer": "ipython3",
   "version": "3.11.3"
  }
 },
 "nbformat": 4,
 "nbformat_minor": 5
}
