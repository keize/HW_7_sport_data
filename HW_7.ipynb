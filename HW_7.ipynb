{
 "cells": [
  {
   "cell_type": "code",
   "execution_count": null,
   "id": "94ca407f-726c-43c4-86eb-b718f4a8ca0a",
   "metadata": {
    "tags": []
   },
   "outputs": [],
   "source": [
    "import pandas as pd\n",
    "import mysql.connector\n",
    "from sqlalchemy import create_engine\n",
    "import requests\n"
   ]
  },
  {
   "cell_type": "code",
   "execution_count": null,
   "id": "1972b30c-b567-42c1-9217-c449209861f2",
   "metadata": {
    "tags": []
   },
   "outputs": [],
   "source": [
    "URL = \"https://raw.githubusercontent.com/rfordatascience/tidytuesday/master/data/2019/2019-10-08/ipf_lifts.csv\"\n",
    "response = requests.get(URL)\n",
    "status_code = response.status_code\n",
    "\n",
    "try:\n",
    "    if status_code == 200:\n",
    "        print(\"Ссылка получает ответ от сервера 200 - можно продолжать работу\")\n",
    "    else:\n",
    "        print(f\"Ссылка получает ответ от сервера {status_code} - убедитесь в интернет-соединении или правильности ссылки\")\n",
    "except requests.exceptions.RequestException as e:\n",
    "    print(f\"Ошибка при проверке ссылки: {e}\")\n"
   ]
  },
  {
   "cell_type": "code",
   "execution_count": 255,
   "id": "9254ff07-4ea4-4a55-ba46-666840d551bd",
   "metadata": {
    "tags": []
   },
   "outputs": [],
   "source": [
    "df = pd.read_csv(URL)"
   ]
  },
  {
   "cell_type": "code",
   "execution_count": 256,
   "id": "6f0b9dda-577f-487d-a9bb-a005c161d29e",
   "metadata": {
    "tags": []
   },
   "outputs": [
    {
     "name": "stdout",
     "output_type": "stream",
     "text": [
      "<class 'pandas.core.frame.DataFrame'>\n",
      "RangeIndex: 41152 entries, 0 to 41151\n",
      "Data columns (total 16 columns):\n",
      " #   Column            Non-Null Count  Dtype  \n",
      "---  ------            --------------  -----  \n",
      " 0   name              41152 non-null  object \n",
      " 1   sex               41152 non-null  object \n",
      " 2   event             41152 non-null  object \n",
      " 3   equipment         41152 non-null  object \n",
      " 4   age               38246 non-null  float64\n",
      " 5   age_class         38268 non-null  object \n",
      " 6   division          40525 non-null  object \n",
      " 7   bodyweight_kg     40965 non-null  float64\n",
      " 8   weight_class_kg   41151 non-null  object \n",
      " 9   best3squat_kg     27454 non-null  float64\n",
      " 10  best3bench_kg     38690 non-null  float64\n",
      " 11  best3deadlift_kg  27124 non-null  float64\n",
      " 12  place             41152 non-null  object \n",
      " 13  date              41152 non-null  object \n",
      " 14  federation        41152 non-null  object \n",
      " 15  meet_name         41152 non-null  object \n",
      "dtypes: float64(5), object(11)\n",
      "memory usage: 5.0+ MB\n"
     ]
    }
   ],
   "source": [
    "df.info()"
   ]
  },
  {
   "cell_type": "code",
   "execution_count": null,
   "id": "e63fa1cb-e59f-4d5c-9e47-aed984cd68ad",
   "metadata": {
    "tags": []
   },
   "outputs": [],
   "source": [
    "df.shape"
   ]
  },
  {
   "cell_type": "code",
   "execution_count": null,
   "id": "0bd2c0f0-0b5c-47d0-9be0-472587505a96",
   "metadata": {
    "tags": []
   },
   "outputs": [],
   "source": [
    "df.columns"
   ]
  },
  {
   "cell_type": "code",
   "execution_count": null,
   "id": "df989d91-c56c-4f15-827b-2a603a28f9da",
   "metadata": {
    "tags": []
   },
   "outputs": [],
   "source": [
    "df.describe()"
   ]
  },
  {
   "cell_type": "code",
   "execution_count": null,
   "id": "6e4169ab-7efa-49df-af02-e9c0fefe3ecb",
   "metadata": {
    "tags": []
   },
   "outputs": [],
   "source": [
    "df.value_counts()"
   ]
  },
  {
   "cell_type": "code",
   "execution_count": null,
   "id": "f5f9cc2d-69f0-42d4-a150-f151a7d47290",
   "metadata": {
    "tags": []
   },
   "outputs": [],
   "source": [
    "df.index"
   ]
  },
  {
   "cell_type": "code",
   "execution_count": null,
   "id": "9433f4ef-a83c-4d7c-a5b6-2a11626426b1",
   "metadata": {
    "tags": []
   },
   "outputs": [],
   "source": [
    "df.isna().sum()"
   ]
  },
  {
   "cell_type": "code",
   "execution_count": null,
   "id": "c58b995c-3308-4a11-b8eb-6d356c05eb33",
   "metadata": {
    "tags": []
   },
   "outputs": [],
   "source": [
    "df.head()"
   ]
  },
  {
   "cell_type": "code",
   "execution_count": null,
   "id": "48091c48-dd5b-402d-a618-86ed9cf58906",
   "metadata": {
    "tags": []
   },
   "outputs": [],
   "source": [
    "df.tail()"
   ]
  },
  {
   "cell_type": "code",
   "execution_count": null,
   "id": "99f0e3cb-b7f1-4d9f-b525-aaf36ae9465d",
   "metadata": {
    "tags": []
   },
   "outputs": [],
   "source": [
    "duplicates = df[df.duplicated(['name'], keep=False)]\n",
    "uniq = df['name'].nunique()\n",
    "print(duplicates)\n",
    "print(uniq)"
   ]
  },
  {
   "cell_type": "code",
   "execution_count": null,
   "id": "bf4fe896-922c-454b-9601-bd34f0c79f58",
   "metadata": {},
   "outputs": [],
   "source": [
    "Мы видим данные о спортсменах с соревнованиях.\n",
    "Дополнительные столбцы показывают информацию о соревновании, оборудовании, месте тренировки и весе и т. д."
   ]
  },
  {
   "cell_type": "code",
   "execution_count": null,
   "id": "04dd35cb-528c-48a1-bb81-936870ba4a05",
   "metadata": {},
   "outputs": [],
   "source": [
    "2. Найдите рекорды каждого пола и каждого подразделения в каждом из 3\n",
    "упражнений (жим лежа, приседания и становая тяга)."
   ]
  },
  {
   "cell_type": "code",
   "execution_count": null,
   "id": "ff8814c4-848e-487d-ad0c-1b9c3dbeba43",
   "metadata": {},
   "outputs": [],
   "source": [
    "Тк в колонках, максимальное значение которых мне нужно вычислить есть значения NaN - функция max будет возвращать NaN. \n",
    "Необходимо строки с этими значениями игнорировать с помощью - .max(skipna=True)"
   ]
  },
  {
   "cell_type": "code",
   "execution_count": null,
   "id": "25f30043-acf3-49e2-9018-c0b369faf9d0",
   "metadata": {
    "tags": []
   },
   "outputs": [],
   "source": [
    "var_m = df[df['sex'] == 'M']\n",
    "best3squat_kg_m = var_m['best3squat_kg'].max(skipna=True)\n",
    "print(best3squat_kg_m)\n",
    "\n",
    "best3bench_kg_m = var_m['best3bench_kg'].max(skipna=True)\n",
    "print(best3bench_kg_m)\n",
    "\n",
    "best3deadlift_kg_m = var_m['best3deadlift_kg'].max(skipna=True)\n",
    "print(best3deadlift_kg_m)\n"
   ]
  },
  {
   "cell_type": "code",
   "execution_count": null,
   "id": "791cff81-1f7b-4bde-97fb-3821d96859f3",
   "metadata": {
    "tags": []
   },
   "outputs": [],
   "source": [
    "var_f = df[df['sex'] == 'F']\n",
    "best3squat_kg_f = var_f['best3squat_kg'].max(skipna=True)\n",
    "print(best3squat_kg_f)\n",
    "\n",
    "best3bench_kg_f = var_f['best3bench_kg'].max(skipna=True)\n",
    "print(best3bench_kg_f)\n",
    "\n",
    "best3deadlift_kg_f = var_f['best3deadlift_kg'].max(skipna=True)\n",
    "print(best3deadlift_kg_f)\n"
   ]
  },
  {
   "cell_type": "code",
   "execution_count": null,
   "id": "8bc68918-b6ed-42d1-a708-b4a6253a6b6e",
   "metadata": {},
   "outputs": [],
   "source": [
    "3. Посчитайте количество побед каждого участника, принимая за победу 1-е\n",
    "место. Сохраните результаты во вторичном DataFrame."
   ]
  },
  {
   "cell_type": "code",
   "execution_count": null,
   "id": "92296aed-301d-4195-8fdb-2f78905291f5",
   "metadata": {
    "tags": []
   },
   "outputs": [],
   "source": [
    "winners = df[df['place'] == '1'].groupby('name')['place'].count().reset_index(name='count_wins')\n",
    "df_winners = df.merge(winners, on='name', how='left')\n",
    "df_winners.to_csv('df_winners.csv', index=False)\n",
    "print(df_winners)"
   ]
  },
  {
   "cell_type": "code",
   "execution_count": null,
   "id": "666abb82-97a0-4d0f-9326-0d208b1c445d",
   "metadata": {},
   "outputs": [],
   "source": [
    "4. Используйте DataFrame из упражнения 3, чтобы показать для каждой\n",
    "комбинации подразделения и пола, участника с наибольшим количеством побед\n",
    "среди участников, когда-либо участвовавших в этом дивизионе."
   ]
  },
  {
   "cell_type": "code",
   "execution_count": null,
   "id": "ef3bf674-4e75-49c7-a3f3-6e4894da9b89",
   "metadata": {
    "tags": []
   },
   "outputs": [],
   "source": [
    "max_index = df_winners['count_wins'].idxmax()\n",
    "max_row = df_winners.loc[max_index]\n",
    "max_row"
   ]
  },
  {
   "cell_type": "code",
   "execution_count": null,
   "id": "34de9f00-0147-430a-b80d-129457548ed7",
   "metadata": {
    "tags": []
   },
   "outputs": [],
   "source": [
    "max_wins_F = df_winners[df_winners['sex'] == 'F'].groupby('division').apply(lambda x: x.loc[x['count_wins'].idxmax()])\n",
    "print(max_wins_F)"
   ]
  },
  {
   "cell_type": "code",
   "execution_count": null,
   "id": "479ebb26-0efc-4434-9e64-b4ce0cf57334",
   "metadata": {
    "tags": []
   },
   "outputs": [],
   "source": [
    "max_wins_M = df_winners[df_winners['sex'] == 'M'].groupby('division').apply(lambda x: x.loc[x['count_wins'].idxmax()])\n",
    "print(max_wins_M)"
   ]
  },
  {
   "cell_type": "code",
   "execution_count": null,
   "id": "96f84584-90e7-4b2c-ad6e-09fe2f30374a",
   "metadata": {
    "tags": []
   },
   "outputs": [],
   "source": [
    "max_wins = df_winners.groupby(['division', 'sex']).apply(lambda x: x.loc[x['count_wins'].idxmax()])\n",
    "print(max_wins)"
   ]
  },
  {
   "cell_type": "code",
   "execution_count": null,
   "id": "d6d823af-afa9-456c-892d-25a50377dc14",
   "metadata": {
    "tags": []
   },
   "outputs": [],
   "source": [
    "5. Подключитесь к базе данных employees и выполните с помощью pandas\n",
    "последний запрос из финального проекта по SQL. Убедитесь, что результаты\n",
    "загружены в pandas DataFrame.\n",
    "\n",
    "'''\n",
    "/* 6. Написать запрос, который выводит строки с дубляжами. */\n",
    "\n",
    "/* \n",
    "because student_no UNIQUE value, I used another columns for identifing duplicates\n",
    "--\n",
    "Adam Lee\tadam.lee@mail.com\t2000-01-01\t2\n",
    "Brandon Chen\tbrandon.chen@mail.com\t2000-02-02\t2\n",
    "Cathy Wang\tcathy.wang@mail.com\t2001-03-03\t2\n",
    "*/\n",
    "\n",
    "SELECT student_name, email, birth_date, COUNT(*)\n",
    "FROM students\n",
    "GROUP BY student_name, email, birth_date\n",
    "HAVING COUNT(*) > 1\n",
    ";\n",
    "'''"
   ]
  },
  {
   "cell_type": "code",
   "execution_count": null,
   "id": "93868ac6-83d4-4cda-8f53-5e0e56fdcc09",
   "metadata": {
    "tags": []
   },
   "outputs": [],
   "source": [
    "user = '****'\n",
    "password = '*********'\n",
    "host = 'localhost'\n",
    "port = '3306'\n",
    "database = 'courses'\n",
    "\n",
    "engine = create_engine(f'mysql+pymysql://{user}:{password}@{host}:{port}/{database}')\n",
    "\n"
   ]
  },
  {
   "cell_type": "code",
   "execution_count": null,
   "id": "0e5a25ee-f7dd-4f07-8e51-8ff51513315a",
   "metadata": {
    "tags": []
   },
   "outputs": [],
   "source": [
    "my_sql_query = '''\n",
    "SELECT student_name, email, birth_date, COUNT(*)\n",
    "FROM students\n",
    "GROUP BY student_name, email, birth_date\n",
    "HAVING COUNT(*) > 1\n",
    "'''"
   ]
  },
  {
   "cell_type": "code",
   "execution_count": null,
   "id": "2418f9bf-c95a-45e8-aef5-31c9da2994a4",
   "metadata": {
    "tags": []
   },
   "outputs": [],
   "source": [
    "df_courses = pd.read_sql_query(my_sql_query, con=engine)\n",
    "print(df_courses)"
   ]
  }
 ],
 "metadata": {
  "kernelspec": {
   "display_name": "Python 3 (ipykernel)",
   "language": "python",
   "name": "python3"
  },
  "language_info": {
   "codemirror_mode": {
    "name": "ipython",
    "version": 3
   },
   "file_extension": ".py",
   "mimetype": "text/x-python",
   "name": "python",
   "nbconvert_exporter": "python",
   "pygments_lexer": "ipython3",
   "version": "3.11.3"
  }
 },
 "nbformat": 4,
 "nbformat_minor": 5
}
